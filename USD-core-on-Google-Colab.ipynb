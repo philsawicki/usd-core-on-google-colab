{
  "nbformat": 4,
  "nbformat_minor": 0,
  "metadata": {
    "colab": {
      "name": "USD-core-on-Google-Colab.ipynb",
      "provenance": [],
      "collapsed_sections": []
    },
    "kernelspec": {
      "name": "python3",
      "display_name": "Python 3"
    }
  },
  "cells": [
    {
      "cell_type": "markdown",
      "metadata": {
        "id": "d7SGPe5YpUm3"
      },
      "source": [
        "# Using USD Python APIs on Google Colab\n",
        "\n",
        "This Google Colaboratory notebook illustrates how to use the core USD Python API from a web browser. \n",
        "\n",
        "The goal is to make it easy to:\n",
        " * Try code snippets without building or installing USD locally;\n",
        " * Share code snippets without copy/pasting files and scripts to a local machine, thus mitigating some security concerns;\n",
        " * Provide repro steps when submitting issues to [USD's GitHub repository](https://github.com/PixarAnimationStudios/USD);\n",
        " * etc. \n",
        "\n",
        "**To run this sample:** click _Runtime_ > _Run all_ from the top menu, or use the <kbd>⌘</kbd>/<kbd>CTRL</kbd>+<kbd>F9</kbd> keyboard shortcut."
      ]
    },
    {
      "cell_type": "markdown",
      "metadata": {
        "id": "-9aGK7fXmghS"
      },
      "source": [
        "## Install the `usd-core` Python package\n",
        "\n",
        "Install the [`usd-core`](https://pypi.org/project/usd-core/) Python package providing the core USD libraries. Note that it does not provide any of the optional plugins or imaging features from the complete USD distribution."
      ]
    },
    {
      "cell_type": "code",
      "metadata": {
        "id": "epRX-Z0OmCkp"
      },
      "source": [
        "! pip install usd-core\n",
        "\n",
        "# See https://pypi.org/project/usd-core/#history for a list of supported USD\n",
        "# versions."
      ],
      "execution_count": null,
      "outputs": []
    },
    {
      "cell_type": "markdown",
      "metadata": {
        "id": "Tgskn4nFmcJ1"
      },
      "source": [
        "## Create a sample USD file\n",
        "\n",
        "This example will create a `Sphere` with shading variants, which will later be loaded in memory and flattened via a script to demonstrate how to use the Python API in Google Colab.\n",
        "\n",
        "For additional context and background information about the source of this USDA file, see Pixar's [_Authoring Variants_](https://graphics.pixar.com/usd/docs/Authoring-Variants.html) tutorial."
      ]
    },
    {
      "cell_type": "code",
      "metadata": {
        "id": "s9wbSCammXys"
      },
      "source": [
        "%%file sphere-variant.usda\n",
        "#usda 1.0\n",
        "(\n",
        "    defaultPrim = \"hello\"\n",
        ")\n",
        "\n",
        "def Xform \"hello\" (\n",
        "    variants = {\n",
        "        string shadingVariant = \"green\"\n",
        "    }\n",
        "    prepend variantSets = \"shadingVariant\"\n",
        ") {\n",
        "    custom double3 xformOp:translate = (4, 5, 6)\n",
        "    uniform token[] xformOpOrder = [\"xformOp:translate\"]\n",
        "\n",
        "    def Sphere \"world\" {\n",
        "        float3[] extent = [(-2, -2, -2), (2, 2, 2)]\n",
        "        color3f[] primvars:displayColor\n",
        "        double radius = 2\n",
        "    }\n",
        "\n",
        "    variantSet \"shadingVariant\" = {\n",
        "        \"red\" {\n",
        "            over \"world\" {\n",
        "                color3f[] primvars:displayColor = [(1, 0, 0)]\n",
        "            }\n",
        "        }\n",
        "        \"green\" {\n",
        "            over \"world\" {\n",
        "                color3f[] primvars:displayColor = [(0, 1, 0)]\n",
        "            }\n",
        "        }\n",
        "        \"blue\" {\n",
        "            over \"world\" {\n",
        "                color3f[] primvars:displayColor = [(0, 0, 1)]\n",
        "            }\n",
        "        }\n",
        "    }\n",
        "}"
      ],
      "execution_count": null,
      "outputs": []
    },
    {
      "cell_type": "markdown",
      "metadata": {
        "id": "5DWbOKfmoPgw"
      },
      "source": [
        "## Flatten the Stage using the USD Python API"
      ]
    },
    {
      "cell_type": "code",
      "metadata": {
        "id": "rfhJSz2Mm1qr"
      },
      "source": [
        "from pxr import Usd\n",
        "\n",
        "\n",
        "def main():\n",
        "    \"\"\"\n",
        "    Open the \"sphere-variant.usda\" file, flatten the stage and print the result\n",
        "    for inspection, to observe the \"green\" shading variant has been applied.\n",
        "    \"\"\"\n",
        "    stage = Usd.Stage.Open(\"sphere-variant.usda\")\n",
        "    falttenedStage = stage.Flatten().ExportToString()\n",
        "    print(falttenedStage)\n",
        "\n",
        "if __name__ == '__main__':\n",
        "    main()"
      ],
      "execution_count": null,
      "outputs": []
    },
    {
      "cell_type": "markdown",
      "metadata": {
        "id": "Mxi_-wW3vr9K"
      },
      "source": [
        "## Now try your own snippet!"
      ]
    },
    {
      "cell_type": "code",
      "metadata": {
        "id": "77iSnDJNvy1q"
      },
      "source": [
        "# Double-click this cell to enter your Python script, then run it by either:\n",
        "#   * Clicking the \"play\" icon next to the cell.\n",
        "#   * Using the CMD/CTRL+ENTER keyboard shortcut.\n",
        "\n"
      ],
      "execution_count": null,
      "outputs": []
    }
  ]
}