{
  "nbformat": 4,
  "nbformat_minor": 0,
  "metadata": {
    "colab": {
      "name": "sdf-change-block.ipynb",
      "provenance": []
    },
    "kernelspec": {
      "name": "python3",
      "display_name": "Python 3"
    }
  },
  "cells": [
    {
      "cell_type": "markdown",
      "metadata": {
        "id": "hy40fqzodgo9"
      },
      "source": [
        "# SDF change block\n",
        "\n",
        "(**Note:** Script adapted from Colin Kennedy's excellent [USD Cookbook](https://github.com/ColinKennedy/USD-Cookbook/tree/master/features/sdf_change_block).)\n",
        "\n",
        "## Quick Reference\n",
        "\n",
        "USD's Change Processing sends notifications whenever changes are made. However, you can make significantly speed up your Sdf calls if you batch the changes into a single operation, which you can do using `SdfChangeBlock`.\n",
        "\n",
        "Because `SdfChangeBlock` is easy to use poorly, [check out the documentation](https://graphics.pixar.com/usd/docs/api/class_sdf_change_block.html) before using it in your own tools."
      ]
    },
    {
      "cell_type": "code",
      "metadata": {
        "id": "wZJqonzadQww"
      },
      "source": [
        "! pip install usd-core\n",
        "\n",
        "# See https://pypi.org/project/usd-core/#history for a list of supported USD\n",
        "# versions."
      ],
      "execution_count": null,
      "outputs": []
    },
    {
      "cell_type": "code",
      "metadata": {
        "id": "n174N2c0dqC6"
      },
      "source": [
        "\"\"\"Batch-creating PrimSpecs, using SdfChangeBlock.\"\"\"\n",
        "\n",
        "# IMPORT THIRD-PARTY LIBRARIES\n",
        "from pxr import Sdf, UsdGeom\n",
        "\n",
        "\n",
        "def main():\n",
        "    \"\"\"Run the main execution of the current script.\"\"\"\n",
        "    layer = Sdf.Layer.CreateAnonymous()\n",
        "\n",
        "    paths = {\n",
        "        Sdf.Path(\"/AndMore\"),\n",
        "        Sdf.Path(\"/AnotherOne\"),\n",
        "        Sdf.Path(\"/AnotherOne/AndAnother\"),\n",
        "        Sdf.Path(\"/More\"),\n",
        "        Sdf.Path(\"/OkayNoMore\"),\n",
        "        Sdf.Path(\"/SomeSphere\"),\n",
        "        Sdf.Path(\"/SomeSphere/InnerPrim\"),\n",
        "        Sdf.Path(\"/SomeSphere/InnerPrim/LastOne\"),\n",
        "    }\n",
        "\n",
        "    prefixes = set(prefix for path in paths for prefix in path.GetPrefixes())\n",
        "    with Sdf.ChangeBlock():\n",
        "        for path in prefixes:\n",
        "            prim_spec = Sdf.CreatePrimInLayer(layer, path)\n",
        "            prim_spec.specifier = Sdf.SpecifierDef\n",
        "            prim_spec.typeName = UsdGeom.Xform.__name__\n",
        "\n",
        "    print(layer.ExportToString())\n",
        "\n",
        "\n",
        "if __name__ == \"__main__\":\n",
        "    main()"
      ],
      "execution_count": null,
      "outputs": []
    }
  ]
}